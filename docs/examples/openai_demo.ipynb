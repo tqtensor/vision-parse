{
  "cells": [
    {
      "cell_type": "markdown",
      "metadata": {},
      "source": [
        "# Using Vision Parse with OpenAI"
      ]
    },
    {
      "cell_type": "markdown",
      "metadata": {},
      "source": [
        "This notebook demonstrates how to use Vision Parse with OpenAI."
      ]
    },
    {
      "cell_type": "code",
      "execution_count": 10,
      "metadata": {},
      "outputs": [],
      "source": [
        "!pip install 'vision-parse[openai]' -Uqq # install the vision-parse package with openai"
      ]
    },
    {
      "cell_type": "code",
      "execution_count": 23,
      "metadata": {},
      "outputs": [
        {
          "name": "stderr",
          "output_type": "stream",
          "text": [
            "Converting pages in PDF file into markdown format: 100%|\u2588\u2588\u2588\u2588\u2588\u2588\u2588\u2588\u2588\u2588| 1/1 [00:25<00:00, 25.21s/it]"
          ]
        },
        {
          "name": "stdout",
          "output_type": "stream",
          "text": [
            "\n",
            "--- Page 1 ---\n",
            "# TEXAS A&M  \n",
            "AGRILIFE  \n",
            "EXTENSION\n",
            "\n",
            "March 3, 2020\n",
            "\n",
            "TO: JR Sprague, TCAAA D1 Chairman  \n",
            "FROM: Andy Holloway, CEA ANR Hemphill County\n",
            "\n",
            "Regarding the three chairmanships appointed to me none have any action needed at this time except for the rules to be submitted to be posted on the TCAAA website for the Texas Holdem Tournament. Please note the following:\n",
            "\n",
            "## Texas Hold'em Basic Poker Rules\n",
            "\n",
            "Texas Hold'em is played with a standard deck of 52 cards. The object of the game is to make the best possible five-card poker hand using any combination of the two card's in a player's hand (known as the \"hole cards\") and the five community cards that the dealer places in the middle of the table, which can be used by all players. The standard hand rankings are used, as follows (from best to worst):\n",
            "\n",
            "- **Straight Flush**: Any five cards of the same suit and consecutive rank; the best of these hands, AKQJT of a single suit, is known as a Royal Flush. For these and regular straights, aces may be played as high or low cards.\n",
            "- **Four of a Kind**: Any four cards of the same rank.\n",
            "- **Full House**: Any three cards from a single rank combined with a pair from a different rank (i.e., TTT55).\n",
            "- **Flush**: Any five cards of the same suit.\n",
            "- **Straight**: Any five cards of consecutive ranks (i.e., 34567).\n",
            "- **Three of a Kind**: Any three cards of the same rank.\n",
            "- **Two Pair**: Any two pairs of cards from the same ranks (ie, 5599A).\n",
            "- **One Pair**: Any two cards of the same rank.\n",
            "- **High Card**: Hands that do not fit any of the above categories are ranked based on the highest card in their hand (aces are high), then by the second highest card, and so on.\n"
          ]
        },
        {
          "name": "stderr",
          "output_type": "stream",
          "text": [
            "\n"
          ]
        }
      ],
      "source": [
        "from vision_parse import VisionParser\n",
        "import os\n",
        "\n",
        "# Initialize parser\n",
        "parser = VisionParser(\n",
        "    model_name=\"gpt-4o\",\n",
        "    api_key=os.getenv(\"OPENAI_API_KEY\"),\n",
        "    temperature=0.9,\n",
        "    top_p=0.4,\n",
        "    max_tokens=4096,\n",
        "    frequency_penalty=0.3,\n",
        "    image_mode=None,\n",
        "    detailed_extraction=True,\n",
        "    enable_concurrency=True,\n",
        ")\n",
        "\n",
        "pdf_path = \"../tests/Texas-Holdem-Rules.pdf\"\n",
        "markdown_pages = parser.convert_pdf(pdf_path)\n",
        "\n",
        "# Print the markdown pages\n",
        "for i, page_content in enumerate(markdown_pages):\n",
        "    print(f\"\\n--- Page {i+1} ---\\n{page_content}\")"
      ]
    }
  ],
  "metadata": {
    "kernelspec": {
      "display_name": "mp",
      "language": "python",
      "name": "python3"
    },
    "language_info": {
      "codemirror_mode": {
        "name": "ipython",
        "version": 3
      },
      "file_extension": ".py",
      "mimetype": "text/x-python",
      "name": "python",
      "nbconvert_exporter": "python",
      "pygments_lexer": "ipython3",
      "version": "3.13.0"
    }
  },
  "nbformat": 4,
  "nbformat_minor": 2
}
