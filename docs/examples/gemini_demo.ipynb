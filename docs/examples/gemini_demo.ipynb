{
  "cells": [
    {
      "cell_type": "markdown",
      "metadata": {},
      "source": [
        "# Using Vision Parse with Google Gemini"
      ]
    },
    {
      "cell_type": "markdown",
      "metadata": {},
      "source": [
        "This notebook demonstrates how to use Vision Parse with Google Gemini."
      ]
    },
    {
      "cell_type": "code",
      "execution_count": 1,
      "metadata": {},
      "outputs": [],
      "source": [
        "!pip install 'vision-parse[gemini]' -Uqq # install the vision-parse package with gemini"
      ]
    },
    {
      "cell_type": "code",
      "execution_count": 3,
      "metadata": {},
      "outputs": [
        {
          "name": "stderr",
          "output_type": "stream",
          "text": [
            "/Users/arunbrahma/anaconda3/envs/mp/lib/python3.13/site-packages/tqdm/auto.py:21: TqdmWarning: IProgress not found. Please update jupyter and ipywidgets. See https://ipywidgets.readthedocs.io/en/stable/user_install.html\n",
            "  from .autonotebook import tqdm as notebook_tqdm\n",
            "Converting pages in PDF file into markdown format: 100%|\u2588\u2588\u2588\u2588\u2588\u2588\u2588\u2588\u2588\u2588| 1/1 [00:15<00:00, 15.82s/it]"
          ]
        },
        {
          "name": "stdout",
          "output_type": "stream",
          "text": [
            "\n",
            "--- Page 1 ---\n",
            "# TEXAS A&M\n",
            "# AGRILIFE\n",
            "# EXTENSION\n",
            "\n",
            "March 3, 2020\n",
            "\n",
            "TO: JR Sprague, TCAAA D1 Chairman\n",
            "\n",
            "FROM: Andy Holloway, CEA ANR Hemphill County\n",
            "\n",
            "Regarding the three chairmanships appointed to me none have any action\n",
            "needed at this time except for the rules to be submitted to be posted on the\n",
            "TCAAA website for the Texas Holdem Tournament. Please note the following:\n",
            "\n",
            "# Texas Hold'em Basic Poker Rules\n",
            "\n",
            "Texas Hold'em is played with a standard deck of 52 cards. The object of the game is to make the best\n",
            "possible five-card poker hand using any combination of the two card's in a player's hand (known as\n",
            "the \"hole cards\") and the five community cards that the dealer places in the middle of the table, which\n",
            "can be used by all players. The standard hand rankings are used, as follows (from best to worst):\n",
            "\n",
            "* Straight Flush: Any five cards of the same suit and consecutive rank; the best of these hands,\n",
            "AKQJT of a single suit, is known as a Royal Flush. For these and regular straights, aces may be\n",
            "played as high or low cards.\n",
            "* Four of a Kind: Any four cards of the same rank.\n",
            "* Full House: Any three cards from a single rank combined with a pair from a different rank (i.e.,\n",
            "TT55).\n",
            "* Flush: Any five cards of the same suit.\n",
            "* Straight: Any five cards of consecutive ranks (i.e., 34567).\n",
            "* Three of a Kind: Any three cards of the same rank.\n",
            "* Two Pair: Any two pairs of cards from the same ranks (ie, 5599A).\n",
            "* One Pair: Any two cards of the same rank.\n",
            "* High Card: Hands that do not fit any of the above categories are ranked based on the highest card\n",
            "in their hand (aces are high), then by the second highest card, and so on.\n",
            "\n",
            "\n"
          ]
        },
        {
          "name": "stderr",
          "output_type": "stream",
          "text": [
            "\n"
          ]
        }
      ],
      "source": [
        "from vision_parse import VisionParser\n",
        "import os\n",
        "\n",
        "# Initialize parser\n",
        "parser = VisionParser(\n",
        "    model_name=\"gemini-1.5-flash\",\n",
        "    api_key=os.getenv(\"GEMINI_API_KEY\"),\n",
        "    temperature=0.9,\n",
        "    top_p=0.4,\n",
        "    max_output_tokens=2048,\n",
        "    image_mode=\"url\",\n",
        "    detailed_extraction=True,\n",
        ")\n",
        "\n",
        "pdf_path = \"../tests/Texas-Holdem-Rules.pdf\"\n",
        "markdown_pages = parser.convert_pdf(pdf_path)\n",
        "\n",
        "# Print the markdown pages\n",
        "for i, page_content in enumerate(markdown_pages):\n",
        "    print(f\"\\n--- Page {i+1} ---\\n{page_content}\")"
      ]
    }
  ],
  "metadata": {
    "kernelspec": {
      "display_name": "mp",
      "language": "python",
      "name": "python3"
    },
    "language_info": {
      "codemirror_mode": {
        "name": "ipython",
        "version": 3
      },
      "file_extension": ".py",
      "mimetype": "text/x-python",
      "name": "python",
      "nbconvert_exporter": "python",
      "pygments_lexer": "ipython3",
      "version": "3.13.1"
    }
  },
  "nbformat": 4,
  "nbformat_minor": 2
}
