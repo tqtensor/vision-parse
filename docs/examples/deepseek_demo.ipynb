{
  "cells": [
    {
      "cell_type": "markdown",
      "metadata": {},
      "source": [
        "# Using Vision Parse with DeepSeek"
      ]
    },
    {
      "cell_type": "markdown",
      "metadata": {},
      "source": [
        "This notebook demonstrates how to use Vision Parse with DeepSeek."
      ]
    },
    {
      "cell_type": "code",
      "execution_count": null,
      "metadata": {},
      "outputs": [],
      "source": [
        "!pip install 'vision-parse[openai]' -Uqq # install the vision-parse package with openai"
      ]
    },
    {
      "cell_type": "code",
      "execution_count": null,
      "metadata": {},
      "outputs": [],
      "source": [
        "from vision_parse import VisionParser\n",
        "import os\n",
        "\n",
        "# Initialize parser\n",
        "parser = VisionParser(\n",
        "    model_name=\"deepseek-chat\",\n",
        "    api_key=os.getenv(\"DEEPSEEK_API_KEY\"),\n",
        "    temperature=0.9,\n",
        "    top_p=0.4,\n",
        "    image_mode=None,\n",
        "    detailed_extraction=True,\n",
        "    enable_concurrency=True,\n",
        ")\n",
        "\n",
        "pdf_path = \"../tests/Texas-Holdem-Rules.pdf\"\n",
        "markdown_pages = parser.convert_pdf(pdf_path)\n",
        "\n",
        "# Print the markdown pages\n",
        "for i, page_content in enumerate(markdown_pages):\n",
        "    print(f\"\\n--- Page {i+1} ---\\n{page_content}\")"
      ]
    }
  ],
  "metadata": {
    "kernelspec": {
      "display_name": "personal",
      "language": "python",
      "name": "python3"
    },
    "language_info": {
      "name": "python",
      "version": "3.10.9"
    }
  },
  "nbformat": 4,
  "nbformat_minor": 2
}
